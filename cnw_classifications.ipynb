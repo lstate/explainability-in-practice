{
 "cells": [
  {
   "cell_type": "markdown",
   "id": "0c38c553",
   "metadata": {},
   "source": [
    "# Classifications\n",
    "\n",
    "1) Load data\n",
    "\n",
    "2) Train models, test and evaluate\n",
    "\n",
    "3) Save models\n",
    "\n",
    "Classification methods: \n",
    "- random forest\n",
    "- decision tree\n",
    "- xgboost\n",
    "\n",
    "Ressources:\n",
    "\n",
    "https://marcotcr.github.io/lime/tutorials/Tutorial%20-%20continuous%20and%20categorical%20features.html\n",
    "\n",
    "https://medium.com/mlearning-ai/shap-force-plots-for-classification-d30be430e195\n",
    "https://stackoverflow.com/questions/65549588/shap-treeexplainer-for-randomforest-multiclass-what-is-shap-valuesi"
   ]
  },
  {
   "cell_type": "code",
   "execution_count": 1,
   "id": "57cce01f",
   "metadata": {},
   "outputs": [],
   "source": [
    "from sklearn.model_selection import train_test_split\n",
    "from sklearn.tree import DecisionTreeClassifier\n",
    "from sklearn.ensemble import RandomForestClassifier\n",
    "from xgboost import XGBClassifier\n",
    "\n",
    "from evaluation import evaluation_classification\n",
    "\n",
    "import numpy as np\n",
    "import random\n",
    "import pandas as pd\n",
    "import matplotlib.pyplot as plt\n",
    "import sklearn\n",
    "import seaborn as sn\n",
    "\n",
    "from joblib import dump"
   ]
  },
  {
   "cell_type": "code",
   "execution_count": 2,
   "id": "48c2e766",
   "metadata": {},
   "outputs": [],
   "source": [
    "# read all prepared data\n",
    "\n",
    "# shuffled vs not shuffled data (one additional randomization before splitting)\n",
    "\n",
    "name_array = [\"X_train_sub\", \"y_train_sub\", \"X_exp_train_sub\", \"y_exp_train_sub\", \\\n",
    "              \"X_train\", \"y_train\", \"X_test\", \"y_test\", \\\n",
    "              \"X_exp_train\", \"y_exp_train\", \"X_exp_test\", \"y_exp_test\", \\\n",
    "              \"X_test_urban\", \"y_test_urban\", \"X_test_rural\", \"y_test_rural\"]\n",
    "name_data = []\n",
    "\n",
    "for i in range(len(name_array)):\n",
    "    name_data.append(np.load(\"mobility_data/network_new_split_shuffled/\" + name_array[i] + \".npy\", allow_pickle=True))\n",
    "\n",
    "X_train_sub, y_train_sub, X_exp_train_sub, y_exp_train_sub, \\\n",
    "X_train, y_train, X_test, y_test, \\\n",
    "X_exp_train, y_exp_train, X_exp_test, y_exp_test, \\\n",
    "X_test_urban, y_test_urban, X_test_rural, y_test_rural = \\\n",
    "name_data[0], name_data[1], name_data[2], name_data[3], \\\n",
    "name_data[4], name_data[5], name_data[6], name_data[7], \\\n",
    "name_data[8], name_data[9], name_data[10], name_data[11], \\\n",
    "name_data[12], name_data[13], name_data[14], name_data[15]"
   ]
  },
  {
   "cell_type": "code",
   "execution_count": 3,
   "id": "19c7ba70",
   "metadata": {},
   "outputs": [
    {
     "name": "stderr",
     "output_type": "stream",
     "text": [
      "/home/laura/miniconda3/envs/late/lib/python3.7/site-packages/xgboost/sklearn.py:1224: UserWarning: The use of label encoder in XGBClassifier is deprecated and will be removed in a future release. To remove this warning, do the following: 1) Pass option use_label_encoder=False when constructing XGBClassifier object; and 2) Encode your labels (y) as integers starting with 0, i.e. 0, 1, 2, ..., [num_class - 1].\n",
      "  warnings.warn(label_encoder_deprecation_msg, UserWarning)\n"
     ]
    },
    {
     "name": "stdout",
     "output_type": "stream",
     "text": [
      "[09:51:40] WARNING: ../src/learner.cc:1115: Starting in XGBoost 1.3.0, the default evaluation metric used with the objective 'multi:softprob' was changed from 'merror' to 'mlogloss'. Explicitly set eval_metric if you'd like to restore the old behavior.\n"
     ]
    },
    {
     "data": {
      "text/plain": [
       "XGBClassifier(base_score=0.5, booster='gbtree', colsample_bylevel=1,\n",
       "              colsample_bynode=1, colsample_bytree=1, enable_categorical=False,\n",
       "              gamma=0, gpu_id=-1, importance_type=None,\n",
       "              interaction_constraints='', learning_rate=0.300000012,\n",
       "              max_delta_step=0, max_depth=6, min_child_weight=1, missing=nan,\n",
       "              monotone_constraints='()', n_estimators=100, n_jobs=8,\n",
       "              num_parallel_tree=1, objective='multi:softprob', predictor='auto',\n",
       "              random_state=0, reg_alpha=0, reg_lambda=1, scale_pos_weight=None,\n",
       "              subsample=1, tree_method='exact', validate_parameters=1,\n",
       "              verbosity=None)"
      ]
     },
     "execution_count": 3,
     "metadata": {},
     "output_type": "execute_result"
    }
   ],
   "source": [
    "# train models\n",
    "\n",
    "rf = RandomForestClassifier(random_state = 0, n_estimators=100)\n",
    "dt = DecisionTreeClassifier(random_state = 0)\n",
    "xgb = XGBClassifier(random_state = 0)\n",
    "\n",
    "rf.fit(X_train_sub, y_train_sub)\n",
    "dt.fit(X_train_sub, y_train_sub)\n",
    "xgb.fit(X_train_sub, y_train_sub)"
   ]
  },
  {
   "cell_type": "code",
   "execution_count": 11,
   "id": "0241a1a0",
   "metadata": {},
   "outputs": [
    {
     "name": "stdout",
     "output_type": "stream",
     "text": [
      "(477, 18) (185, 18) (292, 18)\n"
     ]
    }
   ],
   "source": [
    "print(np.shape(X_test), np.shape(X_test_urban), np.shape(X_test_rural))"
   ]
  },
  {
   "cell_type": "code",
   "execution_count": 4,
   "id": "73966e68",
   "metadata": {},
   "outputs": [
    {
     "name": "stdout",
     "output_type": "stream",
     "text": [
      "0.4276729559748428\n",
      "0.5157232704402516\n",
      "0.49056603773584906\n"
     ]
    }
   ],
   "source": [
    "# full test data set\n",
    "print(dt.score(X_test, y_test))\n",
    "print(rf.score(X_test, y_test))\n",
    "print(xgb.score(X_test, y_test))"
   ]
  },
  {
   "cell_type": "code",
   "execution_count": 5,
   "id": "e6ea1b9a",
   "metadata": {},
   "outputs": [
    {
     "name": "stdout",
     "output_type": "stream",
     "text": [
      "0.7135135135135136\n",
      "0.8540540540540541\n",
      "0.7891891891891892\n"
     ]
    }
   ],
   "source": [
    "# urban regions\n",
    "print(dt.score(X_test_urban, y_test_urban))\n",
    "print(rf.score(X_test_urban, y_test_urban))\n",
    "print(xgb.score(X_test_urban, y_test_urban))"
   ]
  },
  {
   "cell_type": "code",
   "execution_count": 6,
   "id": "36117f8f",
   "metadata": {},
   "outputs": [
    {
     "name": "stdout",
     "output_type": "stream",
     "text": [
      "0.2465753424657534\n",
      "0.3013698630136986\n",
      "0.3013698630136986\n"
     ]
    }
   ],
   "source": [
    "# rural regions\n",
    "print(dt.score(X_test_rural, y_test_rural))\n",
    "print(rf.score(X_test_rural, y_test_rural))\n",
    "print(xgb.score(X_test_rural, y_test_rural))"
   ]
  },
  {
   "cell_type": "markdown",
   "id": "f4827e1a",
   "metadata": {},
   "source": [
    "## Extended Evaluation"
   ]
  },
  {
   "cell_type": "code",
   "execution_count": 7,
   "id": "65f4acc8",
   "metadata": {
    "scrolled": true
   },
   "outputs": [
    {
     "name": "stdout",
     "output_type": "stream",
     "text": [
      "total number of mismatches 273\n",
      "accuracy 0.428\n",
      "\n",
      "\n",
      "class zero\n",
      "204\n",
      "positive diff\n",
      "1 58\n",
      "2 32\n",
      "3 17\n",
      "4 8\n",
      "5 9\n",
      "6 1\n",
      "7 0\n",
      "8 0\n",
      "9 0\n",
      "negative diff\n",
      "1 68\n",
      "2 31\n",
      "3 22\n",
      "4 9\n",
      "5 7\n",
      "6 5\n",
      "7 1\n",
      "8 5\n",
      "9 0\n",
      "abs diff\n",
      "1 126\n",
      "2 63\n",
      "3 39\n",
      "4 17\n",
      "5 16\n",
      "6 6\n",
      "7 1\n",
      "8 5\n",
      "9 0\n",
      "\n",
      "\n",
      "total absolute difference / number of misclassified elements\n",
      "0.21978021978021978\n",
      "\n",
      "\n",
      "total absolute difference / number of total test elements (MAE)\n",
      "0.12578616352201258\n",
      "MAE imbalanced\n",
      "1.2578616352201257\n"
     ]
    },
    {
     "data": {
      "text/plain": [
       "()"
      ]
     },
     "execution_count": 7,
     "metadata": {},
     "output_type": "execute_result"
    },
    {
     "data": {
      "image/png": "[encoded data removed]",
      "text/plain": [
       "<Figure size 432x288 with 2 Axes>"
      ]
     },
     "metadata": {
      "needs_background": "light"
     },
     "output_type": "display_data"
    }
   ],
   "source": [
    "# decision tree\n",
    "evaluation_classification([0.05, 0.15, 0.25, 0.35, 0.45, 0.55, 0.65, 0.75, 0.85, 0.95], [0, 1, 2, 3, 4, 5, 6, 7, 8, 9], X_test, y_test, dt)"
   ]
  },
  {
   "cell_type": "code",
   "execution_count": 8,
   "id": "416ea175",
   "metadata": {
    "scrolled": true
   },
   "outputs": [
    {
     "name": "stdout",
     "output_type": "stream",
     "text": [
      "total number of mismatches 231\n",
      "accuracy 0.516\n",
      "\n",
      "\n",
      "class zero\n",
      "246\n",
      "positive diff\n",
      "1 42\n",
      "2 30\n",
      "3 15\n",
      "4 2\n",
      "5 0\n",
      "6 0\n",
      "7 0\n",
      "8 0\n",
      "9 0\n",
      "negative diff\n",
      "1 56\n",
      "2 42\n",
      "3 21\n",
      "4 15\n",
      "5 5\n",
      "6 1\n",
      "7 1\n",
      "8 1\n",
      "9 0\n",
      "abs diff\n",
      "1 98\n",
      "2 72\n",
      "3 36\n",
      "4 17\n",
      "5 5\n",
      "6 1\n",
      "7 1\n",
      "8 1\n",
      "9 0\n",
      "\n",
      "\n",
      "total absolute difference / number of misclassified elements\n",
      "0.2008658008658009\n",
      "\n",
      "\n",
      "total absolute difference / number of total test elements (MAE)\n",
      "0.09727463312368974\n",
      "MAE imbalanced\n",
      "0.9727463312368972\n"
     ]
    },
    {
     "data": {
      "text/plain": [
       "()"
      ]
     },
     "execution_count": 8,
     "metadata": {},
     "output_type": "execute_result"
    },
    {
     "data": {
      "image/png": "[encoded data removed]",
      "text/plain": [
       "<Figure size 432x288 with 2 Axes>"
      ]
     },
     "metadata": {
      "needs_background": "light"
     },
     "output_type": "display_data"
    }
   ],
   "source": [
    "# random forest\n",
    "evaluation_classification([0.05, 0.15, 0.25, 0.35, 0.45, 0.55, 0.65, 0.75, 0.85, 0.95], [0, 1, 2, 3, 4, 5, 6, 7, 8, 9], X_test, y_test, rf)"
   ]
  },
  {
   "cell_type": "code",
   "execution_count": 9,
   "id": "65cdf51b",
   "metadata": {
    "scrolled": true
   },
   "outputs": [
    {
     "name": "stdout",
     "output_type": "stream",
     "text": [
      "total number of mismatches 243\n",
      "accuracy 0.491\n",
      "\n",
      "\n",
      "class zero\n",
      "234\n",
      "positive diff\n",
      "1 35\n",
      "2 34\n",
      "3 14\n",
      "4 4\n",
      "5 2\n",
      "6 1\n",
      "7 0\n",
      "8 0\n",
      "9 0\n",
      "negative diff\n",
      "1 65\n",
      "2 46\n",
      "3 23\n",
      "4 11\n",
      "5 6\n",
      "6 1\n",
      "7 1\n",
      "8 0\n",
      "9 0\n",
      "abs diff\n",
      "1 100\n",
      "2 80\n",
      "3 37\n",
      "4 15\n",
      "5 8\n",
      "6 2\n",
      "7 1\n",
      "8 0\n",
      "9 0\n",
      "\n",
      "\n",
      "total absolute difference / number of misclassified elements\n",
      "0.20164609053497942\n",
      "\n",
      "\n",
      "total absolute difference / number of total test elements (MAE)\n",
      "0.10272536687631027\n",
      "MAE imbalanced\n",
      "1.0272536687631026\n"
     ]
    },
    {
     "data": {
      "text/plain": [
       "()"
      ]
     },
     "execution_count": 9,
     "metadata": {},
     "output_type": "execute_result"
    },
    {
     "data": {
      "image/png": "[encoded data removed]",
      "text/plain": [
       "<Figure size 432x288 with 2 Axes>"
      ]
     },
     "metadata": {
      "needs_background": "light"
     },
     "output_type": "display_data"
    }
   ],
   "source": [
    "# xgboost\n",
    "evaluation_classification([0.05, 0.15, 0.25, 0.35, 0.45, 0.55, 0.65, 0.75, 0.85, 0.95], [0, 1, 2, 3, 4, 5, 6, 7, 8, 9], X_test, y_test, xgb)"
   ]
  },
  {
   "cell_type": "code",
   "execution_count": 10,
   "id": "b4ea8a18",
   "metadata": {},
   "outputs": [
    {
     "data": {
      "text/plain": [
       "['models_shuffled/xgboost.joblib']"
      ]
     },
     "execution_count": 10,
     "metadata": {},
     "output_type": "execute_result"
    }
   ],
   "source": [
    "# save models\n",
    "\n",
    "#path = \"models/\"\n",
    "path = \"models_shuffled/\"\n",
    "\n",
    "dump(dt, path + \"decision_tree.joblib\")\n",
    "dump(rf, path + \"random_forest.joblib\")\n",
    "dump(xgb, path + \"xgboost.joblib\")"
   ]
  },
  {
   "cell_type": "code",
   "execution_count": null,
   "id": "ccd7fc7b",
   "metadata": {},
   "outputs": [],
   "source": []
  },
  {
   "cell_type": "code",
   "execution_count": null,
   "id": "4c2955e1",
   "metadata": {},
   "outputs": [],
   "source": []
  }
 ],
 "metadata": {
  "kernelspec": {
   "display_name": "late",
   "language": "python",
   "name": "late"
  },
  "language_info": {
   "codemirror_mode": {
    "name": "ipython",
    "version": 3
   },
   "file_extension": ".py",
   "mimetype": "text/x-python",
   "name": "python",
   "nbconvert_exporter": "python",
   "pygments_lexer": "ipython3",
   "version": "3.7.7"
  }
 },
 "nbformat": 4,
 "nbformat_minor": 5
}
