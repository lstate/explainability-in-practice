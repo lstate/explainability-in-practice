{
 "cells": [
  {
   "attachments": {},
   "cell_type": "markdown",
   "id": "0c38c553",
   "metadata": {},
   "source": [
    "# Classifications\n",
    "\n",
    "1) Load data\n",
    "\n",
    "2) Train models, test and evaluate\n",
    "\n",
    "3) Save models\n",
    "\n",
    "Classification methods: \n",
    "- random forest\n",
    "- decision tree\n",
    "- xgboost\n",
    "\n",
    "Extension:\n",
    "- neural net\n",
    "- svm\n",
    "- ada boost\n",
    "- bayes\n",
    "- logistic regression\n",
    "\n",
    "Ressources:\n",
    "\n",
    "https://marcotcr.github.io/lime/tutorials/Tutorial%20-%20continuous%20and%20categorical%20features.html\n",
    "\n",
    "https://medium.com/mlearning-ai/shap-force-plots-for-classification-d30be430e195\n",
    "https://stackoverflow.com/questions/65549588/shap-treeexplainer-for-randomforest-multiclass-what-is-shap-valuesi"
   ]
  },
  {
   "cell_type": "code",
   "execution_count": 1,
   "id": "57cce01f",
   "metadata": {},
   "outputs": [],
   "source": [
    "from sklearn.model_selection import train_test_split\n",
    "from sklearn.tree import DecisionTreeClassifier\n",
    "from sklearn.ensemble import RandomForestClassifier\n",
    "from xgboost import XGBClassifier\n",
    "\n",
    "from evaluation import evaluation_classification\n",
    "\n",
    "import numpy as np\n",
    "import random\n",
    "import pandas as pd\n",
    "import matplotlib.pyplot as plt\n",
    "import sklearn\n",
    "import seaborn as sn\n",
    "\n",
    "from joblib import dump\n",
    "\n",
    "from sklearn.neural_network import MLPClassifier\n",
    "from sklearn.svm import SVC\n",
    "\n",
    "from sklearn.ensemble import AdaBoostClassifier\n",
    "from sklearn.naive_bayes import GaussianNB\n",
    "\n",
    "from sklearn.linear_model import LogisticRegression"
   ]
  },
  {
   "cell_type": "code",
   "execution_count": 2,
   "id": "48c2e766",
   "metadata": {},
   "outputs": [],
   "source": [
    "# read all prepared data\n",
    "\n",
    "# shuffled vs not shuffled data (one additional randomization before splitting)\n",
    "\n",
    "name_array = [\"X_train_sub\", \"y_train_sub\", \"X_exp_train_sub\", \"y_exp_train_sub\", \\\n",
    "              \"X_train\", \"y_train\", \"X_test\", \"y_test\", \\\n",
    "              \"X_exp_train\", \"y_exp_train\", \"X_exp_test\", \"y_exp_test\", \\\n",
    "              \"X_test_urban\", \"y_test_urban\", \"X_test_rural\", \"y_test_rural\"]\n",
    "name_data = []\n",
    "\n",
    "for i in range(len(name_array)):\n",
    "    # name_data.append(np.load(\"mobility_data/network_new_split_shuffled/\" + name_array[i] + \".npy\", allow_pickle=True))\n",
    "    name_data.append(np.load(\"data/network_new_split_shuffled/\" + name_array[i] + \".npy\", allow_pickle=True))\n",
    "\n",
    "X_train_sub, y_train_sub, X_exp_train_sub, y_exp_train_sub, \\\n",
    "X_train, y_train, X_test, y_test, \\\n",
    "X_exp_train, y_exp_train, X_exp_test, y_exp_test, \\\n",
    "X_test_urban, y_test_urban, X_test_rural, y_test_rural = \\\n",
    "name_data[0], name_data[1], name_data[2], name_data[3], \\\n",
    "name_data[4], name_data[5], name_data[6], name_data[7], \\\n",
    "name_data[8], name_data[9], name_data[10], name_data[11], \\\n",
    "name_data[12], name_data[13], name_data[14], name_data[15]"
   ]
  },
  {
   "cell_type": "code",
   "execution_count": 3,
   "id": "19c7ba70",
   "metadata": {},
   "outputs": [
    {
     "name": "stderr",
     "output_type": "stream",
     "text": [
      "/home/laura/miniconda3/envs/late/lib/python3.7/site-packages/xgboost/sklearn.py:1224: UserWarning: The use of label encoder in XGBClassifier is deprecated and will be removed in a future release. To remove this warning, do the following: 1) Pass option use_label_encoder=False when constructing XGBClassifier object; and 2) Encode your labels (y) as integers starting with 0, i.e. 0, 1, 2, ..., [num_class - 1].\n",
      "  warnings.warn(label_encoder_deprecation_msg, UserWarning)\n"
     ]
    },
    {
     "name": "stdout",
     "output_type": "stream",
     "text": [
      "[15:55:44] WARNING: ../src/learner.cc:1115: Starting in XGBoost 1.3.0, the default evaluation metric used with the objective 'multi:softprob' was changed from 'merror' to 'mlogloss'. Explicitly set eval_metric if you'd like to restore the old behavior.\n"
     ]
    },
    {
     "name": "stderr",
     "output_type": "stream",
     "text": [
      "/home/laura/miniconda3/envs/late/lib/python3.7/site-packages/sklearn/neural_network/_multilayer_perceptron.py:696: ConvergenceWarning: Stochastic Optimizer: Maximum iterations (200) reached and the optimization hasn't converged yet.\n",
      "  ConvergenceWarning,\n",
      "/home/laura/miniconda3/envs/late/lib/python3.7/site-packages/sklearn/linear_model/_logistic.py:818: ConvergenceWarning: lbfgs failed to converge (status=1):\n",
      "STOP: TOTAL NO. of ITERATIONS REACHED LIMIT.\n",
      "\n",
      "Increase the number of iterations (max_iter) or scale the data as shown in:\n",
      "    https://scikit-learn.org/stable/modules/preprocessing.html\n",
      "Please also refer to the documentation for alternative solver options:\n",
      "    https://scikit-learn.org/stable/modules/linear_model.html#logistic-regression\n",
      "  extra_warning_msg=_LOGISTIC_SOLVER_CONVERGENCE_MSG,\n"
     ]
    },
    {
     "data": {
      "text/plain": [
       "LogisticRegression(random_state=0)"
      ]
     },
     "execution_count": 3,
     "metadata": {},
     "output_type": "execute_result"
    }
   ],
   "source": [
    "# train models\n",
    "\n",
    "rf = RandomForestClassifier(random_state = 0, n_estimators=100)\n",
    "dt = DecisionTreeClassifier(random_state = 0)\n",
    "xgb = XGBClassifier(random_state = 0)\n",
    "\n",
    "rf.fit(X_train_sub, y_train_sub)\n",
    "dt.fit(X_train_sub, y_train_sub)\n",
    "xgb.fit(X_train_sub, y_train_sub)\n",
    "\n",
    "# add other than tree models\n",
    "\n",
    "# neural net\n",
    "mlp = MLPClassifier(random_state=0)\n",
    "mlp.fit(X_train_sub, y_train_sub)\n",
    "\n",
    "# SVM\n",
    "clf = SVC(random_state=0)\n",
    "clf.fit(X_train_sub, y_train_sub)\n",
    "\n",
    "# ada boost\n",
    "ada = AdaBoostClassifier(random_state=0)\n",
    "ada.fit(X_train_sub, y_train_sub)\n",
    "\n",
    "# naive bayes\n",
    "bayes = GaussianNB()\n",
    "bayes.fit(X_train_sub, y_train_sub)\n",
    "\n",
    "# logistic regression\n",
    "log = LogisticRegression(random_state=0)\n",
    "log.fit(X_train_sub, y_train_sub)"
   ]
  },
  {
   "cell_type": "code",
   "execution_count": 4,
   "id": "0241a1a0",
   "metadata": {},
   "outputs": [
    {
     "name": "stdout",
     "output_type": "stream",
     "text": [
      "(477, 18) (185, 18) (292, 18)\n"
     ]
    }
   ],
   "source": [
    "print(np.shape(X_test), np.shape(X_test_urban), np.shape(X_test_rural))"
   ]
  },
  {
   "cell_type": "code",
   "execution_count": 5,
   "id": "73966e68",
   "metadata": {},
   "outputs": [
    {
     "name": "stdout",
     "output_type": "stream",
     "text": [
      "0.4276729559748428\n",
      "0.5157232704402516\n",
      "0.49056603773584906\n",
      "new models\n",
      "0.46331236897274636\n",
      "0.1949685534591195\n",
      "0.46540880503144655\n",
      "0.4549266247379455\n",
      "0.29350104821802936\n"
     ]
    }
   ],
   "source": [
    "# full test data set\n",
    "print(dt.score(X_test, y_test))\n",
    "print(rf.score(X_test, y_test))\n",
    "print(xgb.score(X_test, y_test))\n",
    "\n",
    "# add other than tree models\n",
    "\n",
    "print(\"new models\")\n",
    "\n",
    "print(log.score(X_test, y_test))\n",
    "\n",
    "print(ada.score(X_test, y_test))\n",
    "print(clf.score(X_test, y_test))\n",
    "\n",
    "print(mlp.score(X_test, y_test))\n",
    "print(bayes.score(X_test, y_test))\n"
   ]
  },
  {
   "cell_type": "code",
   "execution_count": 6,
   "id": "e6ea1b9a",
   "metadata": {},
   "outputs": [
    {
     "name": "stdout",
     "output_type": "stream",
     "text": [
      "0.7135135135135136\n",
      "0.8540540540540541\n",
      "0.7891891891891892\n",
      "new models\n",
      "0.7783783783783784\n",
      "0.11891891891891893\n",
      "0.7837837837837838\n",
      "0.7405405405405405\n",
      "0.3837837837837838\n"
     ]
    }
   ],
   "source": [
    "# urban regions\n",
    "print(dt.score(X_test_urban, y_test_urban))\n",
    "print(rf.score(X_test_urban, y_test_urban))\n",
    "print(xgb.score(X_test_urban, y_test_urban))\n",
    "\n",
    "# add other than tree models\n",
    "\n",
    "print(\"new models\")\n",
    "\n",
    "print(log.score(X_test_urban, y_test_urban))\n",
    "\n",
    "print(ada.score(X_test_urban, y_test_urban))\n",
    "print(clf.score(X_test_urban, y_test_urban))\n",
    "\n",
    "print(mlp.score(X_test_urban, y_test_urban))\n",
    "print(bayes.score(X_test_urban, y_test_urban))"
   ]
  },
  {
   "cell_type": "code",
   "execution_count": 7,
   "id": "36117f8f",
   "metadata": {},
   "outputs": [
    {
     "name": "stdout",
     "output_type": "stream",
     "text": [
      "0.2465753424657534\n",
      "0.3013698630136986\n",
      "0.3013698630136986\n",
      "new models\n",
      "0.2636986301369863\n",
      "0.24315068493150685\n",
      "0.2636986301369863\n",
      "0.273972602739726\n",
      "0.2363013698630137\n"
     ]
    }
   ],
   "source": [
    "# rural regions\n",
    "print(dt.score(X_test_rural, y_test_rural))\n",
    "print(rf.score(X_test_rural, y_test_rural))\n",
    "print(xgb.score(X_test_rural, y_test_rural))\n",
    "\n",
    "# add other than tree models\n",
    "\n",
    "print(\"new models\")\n",
    "\n",
    "print(log.score(X_test_rural, y_test_rural))\n",
    "\n",
    "print(ada.score(X_test_rural, y_test_rural))\n",
    "print(clf.score(X_test_rural, y_test_rural))\n",
    "\n",
    "print(mlp.score(X_test_rural, y_test_rural))\n",
    "print(bayes.score(X_test_rural, y_test_rural))"
   ]
  },
  {
   "attachments": {},
   "cell_type": "markdown",
   "id": "f4827e1a",
   "metadata": {},
   "source": [
    "## Extended Evaluation"
   ]
  },
  {
   "cell_type": "code",
   "execution_count": 8,
   "id": "65f4acc8",
   "metadata": {
    "scrolled": true
   },
   "outputs": [
    {
     "name": "stdout",
     "output_type": "stream",
     "text": [
      "total number of mismatches 273\n",
      "accuracy 0.428\n",
      "\n",
      "\n",
      "class zero\n",
      "204\n",
      "positive diff\n",
      "1 58\n",
      "2 32\n",
      "3 17\n",
      "4 8\n",
      "5 9\n",
      "6 1\n",
      "7 0\n",
      "8 0\n",
      "9 0\n",
      "negative diff\n",
      "1 68\n",
      "2 31\n",
      "3 22\n",
      "4 9\n",
      "5 7\n",
      "6 5\n",
      "7 1\n",
      "8 5\n",
      "9 0\n",
      "abs diff\n",
      "1 126\n",
      "2 63\n",
      "3 39\n",
      "4 17\n",
      "5 16\n",
      "6 6\n",
      "7 1\n",
      "8 5\n",
      "9 0\n",
      "\n",
      "\n",
      "total absolute difference / number of misclassified elements\n",
      "0.21978021978021978\n",
      "\n",
      "\n",
      "total absolute difference / number of total test elements (MAE)\n",
      "0.12578616352201258\n",
      "MAE imbalanced\n",
      "1.2578616352201257\n"
     ]
    },
    {
     "data": {
      "text/plain": [
       "()"
      ]
     },
     "execution_count": 8,
     "metadata": {},
     "output_type": "execute_result"
    },
    {
     "data": {
      "image/png": "[encoded data removed]",
      "text/plain": [
       "<Figure size 432x288 with 2 Axes>"
      ]
     },
     "metadata": {
      "needs_background": "light"
     },
     "output_type": "display_data"
    }
   ],
   "source": [
    "# decision tree\n",
    "evaluation_classification([0.05, 0.15, 0.25, 0.35, 0.45, 0.55, 0.65, 0.75, 0.85, 0.95], [0, 1, 2, 3, 4, 5, 6, 7, 8, 9], X_test, y_test, dt)"
   ]
  },
  {
   "cell_type": "code",
   "execution_count": 9,
   "id": "416ea175",
   "metadata": {
    "scrolled": true
   },
   "outputs": [
    {
     "name": "stdout",
     "output_type": "stream",
     "text": [
      "total number of mismatches 231\n",
      "accuracy 0.516\n",
      "\n",
      "\n",
      "class zero\n",
      "246\n",
      "positive diff\n",
      "1 42\n",
      "2 30\n",
      "3 15\n",
      "4 2\n",
      "5 0\n",
      "6 0\n",
      "7 0\n",
      "8 0\n",
      "9 0\n",
      "negative diff\n",
      "1 56\n",
      "2 42\n",
      "3 21\n",
      "4 15\n",
      "5 5\n",
      "6 1\n",
      "7 1\n",
      "8 1\n",
      "9 0\n",
      "abs diff\n",
      "1 98\n",
      "2 72\n",
      "3 36\n",
      "4 17\n",
      "5 5\n",
      "6 1\n",
      "7 1\n",
      "8 1\n",
      "9 0\n",
      "\n",
      "\n",
      "total absolute difference / number of misclassified elements\n",
      "0.2008658008658009\n",
      "\n",
      "\n",
      "total absolute difference / number of total test elements (MAE)\n",
      "0.09727463312368974\n",
      "MAE imbalanced\n",
      "0.9727463312368972\n"
     ]
    },
    {
     "data": {
      "text/plain": [
       "()"
      ]
     },
     "execution_count": 9,
     "metadata": {},
     "output_type": "execute_result"
    },
    {
     "data": {
      "image/png": "[encoded data removed]",
      "text/plain": [
       "<Figure size 432x288 with 2 Axes>"
      ]
     },
     "metadata": {
      "needs_background": "light"
     },
     "output_type": "display_data"
    }
   ],
   "source": [
    "# random forest\n",
    "evaluation_classification([0.05, 0.15, 0.25, 0.35, 0.45, 0.55, 0.65, 0.75, 0.85, 0.95], [0, 1, 2, 3, 4, 5, 6, 7, 8, 9], X_test, y_test, rf)"
   ]
  },
  {
   "cell_type": "code",
   "execution_count": 10,
   "id": "65cdf51b",
   "metadata": {
    "scrolled": true
   },
   "outputs": [
    {
     "name": "stdout",
     "output_type": "stream",
     "text": [
      "total number of mismatches 243\n",
      "accuracy 0.491\n",
      "\n",
      "\n",
      "class zero\n",
      "234\n",
      "positive diff\n",
      "1 35\n",
      "2 34\n",
      "3 14\n",
      "4 4\n",
      "5 2\n",
      "6 1\n",
      "7 0\n",
      "8 0\n",
      "9 0\n",
      "negative diff\n",
      "1 65\n",
      "2 46\n",
      "3 23\n",
      "4 11\n",
      "5 6\n",
      "6 1\n",
      "7 1\n",
      "8 0\n",
      "9 0\n",
      "abs diff\n",
      "1 100\n",
      "2 80\n",
      "3 37\n",
      "4 15\n",
      "5 8\n",
      "6 2\n",
      "7 1\n",
      "8 0\n",
      "9 0\n",
      "\n",
      "\n",
      "total absolute difference / number of misclassified elements\n",
      "0.20164609053497942\n",
      "\n",
      "\n",
      "total absolute difference / number of total test elements (MAE)\n",
      "0.10272536687631027\n",
      "MAE imbalanced\n",
      "1.0272536687631026\n"
     ]
    },
    {
     "data": {
      "text/plain": [
       "()"
      ]
     },
     "execution_count": 10,
     "metadata": {},
     "output_type": "execute_result"
    },
    {
     "data": {
      "image/png": "[encoded data removed]",
      "text/plain": [
       "<Figure size 432x288 with 2 Axes>"
      ]
     },
     "metadata": {
      "needs_background": "light"
     },
     "output_type": "display_data"
    }
   ],
   "source": [
    "# xgboost\n",
    "evaluation_classification([0.05, 0.15, 0.25, 0.35, 0.45, 0.55, 0.65, 0.75, 0.85, 0.95], [0, 1, 2, 3, 4, 5, 6, 7, 8, 9], X_test, y_test, xgb)"
   ]
  },
  {
   "cell_type": "code",
   "execution_count": 11,
   "id": "e63081b9",
   "metadata": {},
   "outputs": [
    {
     "name": "stdout",
     "output_type": "stream",
     "text": [
      "total number of mismatches 256\n",
      "accuracy 0.463\n",
      "\n",
      "\n",
      "class zero\n",
      "221\n",
      "positive diff\n",
      "1 57\n",
      "2 28\n",
      "3 22\n",
      "4 10\n",
      "5 7\n",
      "6 7\n",
      "7 2\n",
      "8 4\n",
      "9 0\n",
      "negative diff\n",
      "1 44\n",
      "2 31\n",
      "3 19\n",
      "4 13\n",
      "5 4\n",
      "6 2\n",
      "7 2\n",
      "8 4\n",
      "9 0\n",
      "abs diff\n",
      "1 101\n",
      "2 59\n",
      "3 41\n",
      "4 23\n",
      "5 11\n",
      "6 9\n",
      "7 4\n",
      "8 8\n",
      "9 0\n",
      "\n",
      "\n",
      "total absolute difference / number of misclassified elements\n",
      "0.248046875\n",
      "\n",
      "\n",
      "total absolute difference / number of total test elements (MAE)\n",
      "0.1331236897274633\n",
      "MAE imbalanced\n",
      "1.3312368972746331\n"
     ]
    },
    {
     "data": {
      "text/plain": [
       "()"
      ]
     },
     "execution_count": 11,
     "metadata": {},
     "output_type": "execute_result"
    },
    {
     "data": {
      "image/png": "[encoded data removed]",
      "text/plain": [
       "<Figure size 432x288 with 2 Axes>"
      ]
     },
     "metadata": {
      "needs_background": "light"
     },
     "output_type": "display_data"
    }
   ],
   "source": [
    "# log regression\n",
    "evaluation_classification([0.05, 0.15, 0.25, 0.35, 0.45, 0.55, 0.65, 0.75, 0.85, 0.95], [0, 1, 2, 3, 4, 5, 6, 7, 8, 9], X_test, y_test, log)"
   ]
  },
  {
   "cell_type": "code",
   "execution_count": 12,
   "id": "9093eaef",
   "metadata": {},
   "outputs": [
    {
     "name": "stdout",
     "output_type": "stream",
     "text": [
      "total number of mismatches 384\n",
      "accuracy 0.195\n",
      "\n",
      "\n",
      "class zero\n",
      "93\n",
      "positive diff\n",
      "1 31\n",
      "2 26\n",
      "3 6\n",
      "4 13\n",
      "5 2\n",
      "6 2\n",
      "7 0\n",
      "8 0\n",
      "9 0\n",
      "negative diff\n",
      "1 174\n",
      "2 79\n",
      "3 29\n",
      "4 12\n",
      "5 6\n",
      "6 3\n",
      "7 0\n",
      "8 1\n",
      "9 0\n",
      "abs diff\n",
      "1 205\n",
      "2 105\n",
      "3 35\n",
      "4 25\n",
      "5 8\n",
      "6 5\n",
      "7 0\n",
      "8 1\n",
      "9 0\n",
      "\n",
      "\n",
      "total absolute difference / number of misclassified elements\n",
      "0.18177083333333335\n",
      "\n",
      "\n",
      "total absolute difference / number of total test elements (MAE)\n",
      "0.14633123689727465\n",
      "MAE imbalanced\n",
      "1.4633123689727463\n"
     ]
    },
    {
     "data": {
      "text/plain": [
       "()"
      ]
     },
     "execution_count": 12,
     "metadata": {},
     "output_type": "execute_result"
    },
    {
     "data": {
      "image/png": "[encoded data removed]",
      "text/plain": [
       "<Figure size 432x288 with 2 Axes>"
      ]
     },
     "metadata": {
      "needs_background": "light"
     },
     "output_type": "display_data"
    }
   ],
   "source": [
    "# ada boost\n",
    "evaluation_classification([0.05, 0.15, 0.25, 0.35, 0.45, 0.55, 0.65, 0.75, 0.85, 0.95], [0, 1, 2, 3, 4, 5, 6, 7, 8, 9], X_test, y_test, ada)"
   ]
  },
  {
   "cell_type": "code",
   "execution_count": 13,
   "id": "999e594a",
   "metadata": {},
   "outputs": [
    {
     "name": "stdout",
     "output_type": "stream",
     "text": [
      "total number of mismatches 255\n",
      "accuracy 0.465\n",
      "\n",
      "\n",
      "class zero\n",
      "222\n",
      "positive diff\n",
      "1 60\n",
      "2 29\n",
      "3 20\n",
      "4 10\n",
      "5 7\n",
      "6 6\n",
      "7 3\n",
      "8 2\n",
      "9 0\n",
      "negative diff\n",
      "1 45\n",
      "2 28\n",
      "3 19\n",
      "4 14\n",
      "5 4\n",
      "6 2\n",
      "7 2\n",
      "8 4\n",
      "9 0\n",
      "abs diff\n",
      "1 105\n",
      "2 57\n",
      "3 39\n",
      "4 24\n",
      "5 11\n",
      "6 8\n",
      "7 5\n",
      "8 6\n",
      "9 0\n",
      "\n",
      "\n",
      "total absolute difference / number of misclassified elements\n",
      "0.24235294117647058\n",
      "\n",
      "\n",
      "total absolute difference / number of total test elements (MAE)\n",
      "0.12955974842767295\n",
      "MAE imbalanced\n",
      "1.2955974842767295\n"
     ]
    },
    {
     "data": {
      "text/plain": [
       "()"
      ]
     },
     "execution_count": 13,
     "metadata": {},
     "output_type": "execute_result"
    },
    {
     "data": {
      "image/png": "[encoded data removed]",
      "text/plain": [
       "<Figure size 432x288 with 2 Axes>"
      ]
     },
     "metadata": {
      "needs_background": "light"
     },
     "output_type": "display_data"
    }
   ],
   "source": [
    "# svm\n",
    "evaluation_classification([0.05, 0.15, 0.25, 0.35, 0.45, 0.55, 0.65, 0.75, 0.85, 0.95], [0, 1, 2, 3, 4, 5, 6, 7, 8, 9], X_test, y_test, clf)"
   ]
  },
  {
   "cell_type": "code",
   "execution_count": 14,
   "id": "cd629cc5",
   "metadata": {},
   "outputs": [
    {
     "name": "stdout",
     "output_type": "stream",
     "text": [
      "total number of mismatches 260\n",
      "accuracy 0.455\n",
      "\n",
      "\n",
      "class zero\n",
      "217\n",
      "positive diff\n",
      "1 57\n",
      "2 16\n",
      "3 16\n",
      "4 9\n",
      "5 5\n",
      "6 2\n",
      "7 2\n",
      "8 0\n",
      "9 0\n",
      "negative diff\n",
      "1 75\n",
      "2 32\n",
      "3 24\n",
      "4 13\n",
      "5 4\n",
      "6 1\n",
      "7 2\n",
      "8 2\n",
      "9 0\n",
      "abs diff\n",
      "1 132\n",
      "2 48\n",
      "3 40\n",
      "4 22\n",
      "5 9\n",
      "6 3\n",
      "7 4\n",
      "8 2\n",
      "9 0\n",
      "\n",
      "\n",
      "total absolute difference / number of misclassified elements\n",
      "0.20884615384615385\n",
      "\n",
      "\n",
      "total absolute difference / number of total test elements (MAE)\n",
      "0.11383647798742137\n",
      "MAE imbalanced\n",
      "1.1383647798742138\n"
     ]
    },
    {
     "data": {
      "text/plain": [
       "()"
      ]
     },
     "execution_count": 14,
     "metadata": {},
     "output_type": "execute_result"
    },
    {
     "data": {
      "image/png": "[encoded data removed]",
      "text/plain": [
       "<Figure size 432x288 with 2 Axes>"
      ]
     },
     "metadata": {
      "needs_background": "light"
     },
     "output_type": "display_data"
    }
   ],
   "source": [
    "# mlp (neural net)\n",
    "evaluation_classification([0.05, 0.15, 0.25, 0.35, 0.45, 0.55, 0.65, 0.75, 0.85, 0.95], [0, 1, 2, 3, 4, 5, 6, 7, 8, 9], X_test, y_test, mlp)"
   ]
  },
  {
   "cell_type": "code",
   "execution_count": 15,
   "id": "164e8a61",
   "metadata": {},
   "outputs": [
    {
     "name": "stdout",
     "output_type": "stream",
     "text": [
      "total number of mismatches 337\n",
      "accuracy 0.294\n",
      "\n",
      "\n",
      "class zero\n",
      "140\n",
      "positive diff\n",
      "1 28\n",
      "2 23\n",
      "3 18\n",
      "4 4\n",
      "5 2\n",
      "6 0\n",
      "7 0\n",
      "8 0\n",
      "9 0\n",
      "negative diff\n",
      "1 82\n",
      "2 96\n",
      "3 33\n",
      "4 30\n",
      "5 15\n",
      "6 2\n",
      "7 2\n",
      "8 1\n",
      "9 1\n",
      "abs diff\n",
      "1 110\n",
      "2 119\n",
      "3 51\n",
      "4 34\n",
      "5 17\n",
      "6 2\n",
      "7 2\n",
      "8 1\n",
      "9 1\n",
      "\n",
      "\n",
      "total absolute difference / number of misclassified elements\n",
      "0.22700296735905046\n",
      "\n",
      "\n",
      "total absolute difference / number of total test elements (MAE)\n",
      "0.16037735849056603\n",
      "MAE imbalanced\n",
      "1.6037735849056605\n"
     ]
    },
    {
     "data": {
      "text/plain": [
       "()"
      ]
     },
     "execution_count": 15,
     "metadata": {},
     "output_type": "execute_result"
    },
    {
     "data": {
      "image/png": "[encoded data removed]",
      "text/plain": [
       "<Figure size 432x288 with 2 Axes>"
      ]
     },
     "metadata": {
      "needs_background": "light"
     },
     "output_type": "display_data"
    }
   ],
   "source": [
    "# naive bayes\n",
    "evaluation_classification([0.05, 0.15, 0.25, 0.35, 0.45, 0.55, 0.65, 0.75, 0.85, 0.95], [0, 1, 2, 3, 4, 5, 6, 7, 8, 9], X_test, y_test, bayes)"
   ]
  },
  {
   "cell_type": "code",
   "execution_count": null,
   "id": "b4ea8a18",
   "metadata": {},
   "outputs": [],
   "source": [
    "# save models\n",
    "\n",
    "#path = \"models/\"\n",
    "path = \"models_shuffled/\"\n",
    "\n",
    "#dump(dt, path + \"decision_tree.joblib\")\n",
    "#dump(rf, path + \"random_forest.joblib\")\n",
    "#dump(xgb, path + \"xgboost.joblib\")"
   ]
  },
  {
   "cell_type": "code",
   "execution_count": null,
   "id": "ccd7fc7b",
   "metadata": {},
   "outputs": [],
   "source": []
  },
  {
   "cell_type": "code",
   "execution_count": null,
   "id": "4c2955e1",
   "metadata": {},
   "outputs": [],
   "source": []
  }
 ],
 "metadata": {
  "kernelspec": {
   "display_name": "clone_xspells_conda_env_3",
   "language": "python",
   "name": "python3"
  },
  "language_info": {
   "codemirror_mode": {
    "name": "ipython",
    "version": 3
   },
   "file_extension": ".py",
   "mimetype": "text/x-python",
   "name": "python",
   "nbconvert_exporter": "python",
   "pygments_lexer": "ipython3",
   "version": "3.7.7"
  }
 },
 "nbformat": 4,
 "nbformat_minor": 5
}
