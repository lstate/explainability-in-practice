{
 "cells": [
  {
   "cell_type": "markdown",
   "id": "0c38c553",
   "metadata": {},
   "source": [
    "# LIME plots\n",
    "\n",
    "Ressources:\n",
    "\n",
    "https://marcotcr.github.io/lime/tutorials/Tutorial%20-%20continuous%20and%20categorical%20features.html\n",
    "\n",
    "https://medium.com/mlearning-ai/shap-force-plots-for-classification-d30be430e195\n",
    "https://stackoverflow.com/questions/65549588/shap-treeexplainer-for-randomforest-multiclass-what-is-shap-valuesi"
   ]
  },
  {
   "cell_type": "code",
   "execution_count": 1,
   "id": "57cce01f",
   "metadata": {},
   "outputs": [],
   "source": [
    "from sklearn.model_selection import train_test_split\n",
    "from sklearn.tree import DecisionTreeClassifier\n",
    "from sklearn.ensemble import RandomForestClassifier\n",
    "from xgboost import XGBClassifier\n",
    "\n",
    "from evaluation import evaluation_classification\n",
    "\n",
    "import lime\n",
    "import lime.lime_tabular\n",
    "import numpy as np\n",
    "import random\n",
    "import shap\n",
    "import pandas as pd\n",
    "import matplotlib.pyplot as plt\n",
    "\n",
    "import sklearn\n",
    "import seaborn as sn\n",
    "from joblib import load\n",
    "\n",
    "import matplotlib.pyplot as plt\n",
    "import matplotlib"
   ]
  },
  {
   "cell_type": "code",
   "execution_count": 2,
   "id": "48c2e766",
   "metadata": {},
   "outputs": [],
   "source": [
    "# read all prepared data\n",
    "\n",
    "name_array = [\"X_train_sub\", \"y_train_sub\", \"X_exp_train_sub\", \"y_exp_train_sub\", \\\n",
    "              \"X_train\", \"y_train\", \"X_test\", \"y_test\", \\\n",
    "              \"X_exp_train\", \"y_exp_train\", \"X_exp_test\", \"y_exp_test\", \\\n",
    "              \"X_test_urban\", \"y_test_urban\", \"X_test_rural\", \"y_test_rural\", \\\n",
    "              \"X_test_exp_urban\", \"y_test_exp_urban\", \"X_test_exp_rural\", \"y_test_exp_rural\", \\\n",
    "              \"X_train_exp_urban\", \"y_train_exp_urban\", \"X_train_exp_rural\", \"y_train_exp_rural\"]\n",
    "name_data = []\n",
    "\n",
    "for i in range(len(name_array)):\n",
    "    name_data.append(np.load(\"mobility_data/network_new_split_shuffled/\" + name_array[i] + \".npy\", allow_pickle=True))\n",
    "\n",
    "X_train_sub, y_train_sub, X_exp_train_sub, y_exp_train_sub, \\\n",
    "X_train, y_train, X_test, y_test, \\\n",
    "X_exp_train, y_exp_train, X_exp_test, y_exp_test, \\\n",
    "X_test_urban, y_test_urban, X_test_rural, y_test_rural, \\\n",
    "X_test_exp_urban, y_test_exp_urban, X_test_exp_rural, y_test_exp_rural, \\\n",
    "X_train_exp_urban, y_train_exp_urban, X_train_exp_rural, y_train_exp_rural = \\\n",
    "name_data[0], name_data[1], name_data[2], name_data[3], \\\n",
    "name_data[4], name_data[5], name_data[6], name_data[7], \\\n",
    "name_data[8], name_data[9], name_data[10], name_data[11], \\\n",
    "name_data[12], name_data[13], name_data[14], name_data[15], \\\n",
    "name_data[16], name_data[17], name_data[18], name_data[19], \\\n",
    "name_data[20], name_data[21], name_data[22], name_data[23]"
   ]
  },
  {
   "cell_type": "code",
   "execution_count": 3,
   "id": "b4ea8a18",
   "metadata": {},
   "outputs": [],
   "source": [
    "# load models\n",
    "\n",
    "dt = load(\"models_shuffled/decision_tree.joblib\")\n",
    "rf = load(\"models_shuffled/random_forest.joblib\")\n",
    "xgb = load(\"models_shuffled/xgboost.joblib\")"
   ]
  },
  {
   "cell_type": "markdown",
   "id": "c1cee29d",
   "metadata": {},
   "source": [
    "# EXPLANATIONS"
   ]
  },
  {
   "cell_type": "code",
   "execution_count": 4,
   "id": "77dc6f64",
   "metadata": {},
   "outputs": [
    {
     "name": "stdout",
     "output_type": "stream",
     "text": [
      "randomly generated indices [98, 107, 10, 66, 130, 124, 103, 77, 122, 91]\n",
      "original label [4, 9, 9, 9, 5, 9, 8, 9, 9, 3]\n",
      "prediction rf [2, 9, 9, 9, 7, 9, 7, 9, 9, 1]\n"
     ]
    },
    {
     "name": "stderr",
     "output_type": "stream",
     "text": [
      "np.matrix usage is deprecated in 1.0 and will raise a TypeError in 1.2. Please convert to a numpy array with np.asarray. For more information see: https://numpy.org/doc/stable/reference/generated/numpy.matrix.html\n",
      "np.matrix usage is deprecated in 1.0 and will raise a TypeError in 1.2. Please convert to a numpy array with np.asarray. For more information see: https://numpy.org/doc/stable/reference/generated/numpy.matrix.html\n",
      "np.matrix usage is deprecated in 1.0 and will raise a TypeError in 1.2. Please convert to a numpy array with np.asarray. For more information see: https://numpy.org/doc/stable/reference/generated/numpy.matrix.html\n",
      "np.matrix usage is deprecated in 1.0 and will raise a TypeError in 1.2. Please convert to a numpy array with np.asarray. For more information see: https://numpy.org/doc/stable/reference/generated/numpy.matrix.html\n",
      "np.matrix usage is deprecated in 1.0 and will raise a TypeError in 1.2. Please convert to a numpy array with np.asarray. For more information see: https://numpy.org/doc/stable/reference/generated/numpy.matrix.html\n",
      "np.matrix usage is deprecated in 1.0 and will raise a TypeError in 1.2. Please convert to a numpy array with np.asarray. For more information see: https://numpy.org/doc/stable/reference/generated/numpy.matrix.html\n",
      "np.matrix usage is deprecated in 1.0 and will raise a TypeError in 1.2. Please convert to a numpy array with np.asarray. For more information see: https://numpy.org/doc/stable/reference/generated/numpy.matrix.html\n",
      "np.matrix usage is deprecated in 1.0 and will raise a TypeError in 1.2. Please convert to a numpy array with np.asarray. For more information see: https://numpy.org/doc/stable/reference/generated/numpy.matrix.html\n",
      "np.matrix usage is deprecated in 1.0 and will raise a TypeError in 1.2. Please convert to a numpy array with np.asarray. For more information see: https://numpy.org/doc/stable/reference/generated/numpy.matrix.html\n",
      "np.matrix usage is deprecated in 1.0 and will raise a TypeError in 1.2. Please convert to a numpy array with np.asarray. For more information see: https://numpy.org/doc/stable/reference/generated/numpy.matrix.html\n"
     ]
    }
   ],
   "source": [
    "# local explanation parameters\n",
    "\n",
    "# N - number of instances to look at\n",
    "N = 10\n",
    "# indices\n",
    "random.seed(0)\n",
    "collect_i = random.sample(range(0, X_exp_test.shape[0]), N)\n",
    "\n",
    "orig_collect_p = []\n",
    "collect_p = []\n",
    "\n",
    "for c in range(N):\n",
    "    pred_i = rf.predict(np.asmatrix(X_exp_test[collect_i[c]]))[0]\n",
    "    collect_p.append(pred_i)\n",
    "    orig_collect_p.append(y_exp_test[collect_i[c]])\n",
    "\n",
    "print(\"randomly generated indices\", collect_i)\n",
    "print(\"original label\", orig_collect_p)\n",
    "print(\"prediction rf\", collect_p)"
   ]
  },
  {
   "cell_type": "code",
   "execution_count": 5,
   "id": "2eabb296",
   "metadata": {},
   "outputs": [
    {
     "name": "stdout",
     "output_type": "stream",
     "text": [
      "[9 1 7 5 2 2 0 9 3 9 9 9 9 6 6 1 1 9 2 1 2 9 6 6 6 1 5 1 9 0 1 0 1 1 2 1 9\n",
      " 9 9 9 7 8 9 5 1 8 9 1 1 3 8 0 1 9 2 1 9 7 9 7 8 1 1 9 8 7 9 8 6 5 5 9 2 0\n",
      " 9 9 1 9 8 9 9 2 9 0 0 0 6 9 0 1 2 1 7 2 1 9 1 5 2 1 8 9 9 7 0 1 3 9 1 7 0\n",
      " 0 9 8 0 9 9 9 1 0 1 9 9 8 9 9 0 3 9 6 7 3 9 8 9 7 1 9 6 0 4 9 9 8]\n",
      "144 60 84\n"
     ]
    }
   ],
   "source": [
    "N_all = len(X_exp_test)\n",
    "prediction = rf.predict(X_exp_test)\n",
    "print(rf.predict(X_exp_test))\n",
    "\n",
    "N_all_urban = len(X_test_exp_urban)\n",
    "N_all_rural = len(X_test_exp_rural)\n",
    "\n",
    "prediction_urban = rf.predict(X_test_exp_urban)\n",
    "prediction_rural = rf.predict(X_test_exp_rural)\n",
    "\n",
    "print(N_all, N_all_urban, N_all_rural)"
   ]
  },
  {
   "cell_type": "code",
   "execution_count": 6,
   "id": "5c1010ef",
   "metadata": {},
   "outputs": [
    {
     "name": "stdout",
     "output_type": "stream",
     "text": [
      "(144, 18)\n",
      "(333, 18)\n"
     ]
    }
   ],
   "source": [
    "print(np.shape(X_exp_test))\n",
    "print(np.shape(X_exp_train))\n",
    "\n",
    "columns = [\"te_cn\", \"out_cn\", \"in_cn\", \"dc_cn\", \"cc_cn\", \"out/in_cn\", \"te_cl\", \"out_cl\", \"in_cl\", \"dc_cl\", \"cc_cl\", \"out/in_cl\", \"te_sn\", \"out_sn\", \"in_sn\", \"dc_sn\", \"cc_sn\", \"out/in_sn\"]\n",
    "target = [\"0\", \"1\", \"2\", \"3\", \"4\", \"5\", \"6\", \"7\", \"8\", \"9\"]"
   ]
  },
  {
   "cell_type": "markdown",
   "id": "4c571e7c",
   "metadata": {},
   "source": [
    "# 1) LIME"
   ]
  },
  {
   "cell_type": "code",
   "execution_count": 7,
   "id": "c90fa249",
   "metadata": {},
   "outputs": [],
   "source": [
    "values_ = np.load(\"explanations/lime_matrix.npy\")\n",
    "# training on urban or rural training set, N adapted\n",
    "values_urban_2 = np.load(\"explanations_refined/lime_matrix_urban.npy\")\n",
    "values_rural_2 = np.load(\"explanations_refined/lime_matrix_rural.npy\")"
   ]
  },
  {
   "cell_type": "code",
   "execution_count": 8,
   "id": "4ac53f27",
   "metadata": {},
   "outputs": [
    {
     "name": "stdout",
     "output_type": "stream",
     "text": [
      "(10, 18, 144)\n"
     ]
    }
   ],
   "source": [
    "print(np.shape(values_))"
   ]
  },
  {
   "cell_type": "code",
   "execution_count": 9,
   "id": "1a9ae4af",
   "metadata": {},
   "outputs": [
    {
     "data": {
      "image/png": "[encoded data removed]",
      "text/plain": [
       "<Figure size 720x432 with 2 Axes>"
      ]
     },
     "metadata": {
      "needs_background": "light"
     },
     "output_type": "display_data"
    }
   ],
   "source": [
    "# filter only non-zero\n",
    "\n",
    "plt.figure(figsize = (10, 6))\n",
    "plt.imshow(np.sum(values_, axis = 2) / 144,cmap = \"Reds\")\n",
    "#plt.imshow(np.sum(values_, axis = 2) / np.count_nonzero(values_, axis = 2), cmap = \"coolwarm\")\n",
    "plt.colorbar(shrink = 0.75)\n",
    "l = [0, 1, 2, 3, 4, 5, 6, 7, 8, 9, 10, 11, 12, 13, 14, 15, 16, 17]\n",
    "c = [0, 1, 2, 3, 4, 5, 6, 7, 8, 9]\n",
    "plt.xticks(l, columns, rotation='vertical')\n",
    "plt.yticks(c)\n",
    "plt.ylabel(\"predicted class\")\n",
    "plt.tight_layout()\n",
    "\n",
    "plt.savefig(\"explanations_new_colorbar/lime_matrix.pdf\")"
   ]
  },
  {
   "cell_type": "code",
   "execution_count": 10,
   "id": "5c3e686c",
   "metadata": {},
   "outputs": [
    {
     "data": {
      "image/png": "[encoded data removed]",
      "text/plain": [
       "<Figure size 720x432 with 2 Axes>"
      ]
     },
     "metadata": {
      "needs_background": "light"
     },
     "output_type": "display_data"
    }
   ],
   "source": [
    "# filter only non-zero\n",
    "\n",
    "plt.figure(figsize = (10, 6))\n",
    "plt.imshow((np.sum(values_urban_2, axis = 2) / 60), cmap = \"Reds\")\n",
    "#plt.imshow(np.sum(values_, axis = 2) / np.count_nonzero(values_, axis = 2), cmap = \"coolwarm\")\n",
    "plt.colorbar(shrink = 0.75)\n",
    "l = [0, 1, 2, 3, 4, 5, 6, 7, 8, 9, 10, 11, 12, 13, 14, 15, 16, 17]\n",
    "c = [0, 1, 2, 3, 4, 5, 6, 7, 8, 9]\n",
    "plt.xticks(l, columns, rotation='vertical')\n",
    "plt.yticks(c)\n",
    "plt.ylabel(\"predicted class\")\n",
    "plt.tight_layout()\n",
    "\n",
    "\n",
    "plt.savefig(\"explanations_new_colorbar/lime_matrix_urban_2.pdf\")"
   ]
  },
  {
   "cell_type": "code",
   "execution_count": 11,
   "id": "1d54312b",
   "metadata": {},
   "outputs": [
    {
     "data": {
      "image/png": "[encoded data removed]",
      "text/plain": [
       "<Figure size 720x432 with 2 Axes>"
      ]
     },
     "metadata": {
      "needs_background": "light"
     },
     "output_type": "display_data"
    }
   ],
   "source": [
    "# filter only non-zero\n",
    "\n",
    "plt.figure(figsize = (10, 6))\n",
    "plt.imshow(np.sum(values_rural_2, axis = 2) / 84, cmap = \"Reds\")\n",
    "#plt.imshow(np.sum(values_, axis = 2) / np.count_nonzero(values_, axis = 2), cmap = \"coolwarm\")\n",
    "plt.colorbar(shrink = 0.75)\n",
    "l = [0, 1, 2, 3, 4, 5, 6, 7, 8, 9, 10, 11, 12, 13, 14, 15, 16, 17]\n",
    "c = [0, 1, 2, 3, 4, 5, 6, 7, 8, 9]\n",
    "plt.xticks(l, columns, rotation='vertical')\n",
    "plt.yticks(c)\n",
    "plt.ylabel(\"predicted class\")\n",
    "plt.tight_layout()\n",
    "\n",
    "\n",
    "plt.savefig(\"explanations_new_colorbar/lime_matrix_rural_2.pdf\")"
   ]
  },
  {
   "cell_type": "code",
   "execution_count": null,
   "id": "b7f85a63",
   "metadata": {},
   "outputs": [],
   "source": []
  }
 ],
 "metadata": {
  "kernelspec": {
   "display_name": "late",
   "language": "python",
   "name": "late"
  },
  "language_info": {
   "codemirror_mode": {
    "name": "ipython",
    "version": 3
   },
   "file_extension": ".py",
   "mimetype": "text/x-python",
   "name": "python",
   "nbconvert_exporter": "python",
   "pygments_lexer": "ipython3",
   "version": "3.7.7"
  }
 },
 "nbformat": 4,
 "nbformat_minor": 5
}
