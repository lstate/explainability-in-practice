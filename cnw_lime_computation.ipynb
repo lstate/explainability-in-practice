{
 "cells": [
  {
   "cell_type": "markdown",
   "id": "0c38c553",
   "metadata": {},
   "source": [
    "# LIME computation\n",
    "\n",
    "Ressources:\n",
    "\n",
    "https://marcotcr.github.io/lime/tutorials/Tutorial%20-%20continuous%20and%20categorical%20features.html\n",
    "\n",
    "https://medium.com/mlearning-ai/shap-force-plots-for-classification-d30be430e195\n",
    "https://stackoverflow.com/questions/65549588/shap-treeexplainer-for-randomforest-multiclass-what-is-shap-valuesi"
   ]
  },
  {
   "cell_type": "code",
   "execution_count": 1,
   "id": "57cce01f",
   "metadata": {},
   "outputs": [],
   "source": [
    "from sklearn.model_selection import train_test_split\n",
    "from sklearn.tree import DecisionTreeClassifier\n",
    "from sklearn.ensemble import RandomForestClassifier\n",
    "from xgboost import XGBClassifier\n",
    "\n",
    "from evaluation import evaluation_classification\n",
    "\n",
    "import lime\n",
    "import lime.lime_tabular\n",
    "import numpy as np\n",
    "import random\n",
    "import shap\n",
    "import pandas as pd\n",
    "import matplotlib.pyplot as plt\n",
    "\n",
    "import sklearn\n",
    "import seaborn as sn\n",
    "from joblib import load"
   ]
  },
  {
   "cell_type": "code",
   "execution_count": 2,
   "id": "48c2e766",
   "metadata": {},
   "outputs": [],
   "source": [
    "# read all prepared data\n",
    "\n",
    "name_array = [\"X_train_sub\", \"y_train_sub\", \"X_exp_train_sub\", \"y_exp_train_sub\", \\\n",
    "              \"X_train\", \"y_train\", \"X_test\", \"y_test\", \\\n",
    "              \"X_exp_train\", \"y_exp_train\", \"X_exp_test\", \"y_exp_test\", \\\n",
    "              \"X_test_urban\", \"y_test_urban\", \"X_test_rural\", \"y_test_rural\", \\\n",
    "              \"X_test_exp_urban\", \"y_test_exp_urban\", \"X_test_exp_rural\", \"y_test_exp_rural\", \\\n",
    "              \"X_train_exp_urban\", \"y_train_exp_urban\", \"X_train_exp_rural\", \"y_train_exp_rural\"]\n",
    "name_data = []\n",
    "\n",
    "for i in range(len(name_array)):\n",
    "    name_data.append(np.load(\"mobility_data/network_new_split_shuffled/\" + name_array[i] + \".npy\", allow_pickle=True))\n",
    "\n",
    "X_train_sub, y_train_sub, X_exp_train_sub, y_exp_train_sub, \\\n",
    "X_train, y_train, X_test, y_test, \\\n",
    "X_exp_train, y_exp_train, X_exp_test, y_exp_test, \\\n",
    "X_test_urban, y_test_urban, X_test_rural, y_test_rural, \\\n",
    "X_test_exp_urban, y_test_exp_urban, X_test_exp_rural, y_test_exp_rural, \\\n",
    "X_train_exp_urban, y_train_exp_urban, X_train_exp_rural, y_train_exp_rural = \\\n",
    "name_data[0], name_data[1], name_data[2], name_data[3], \\\n",
    "name_data[4], name_data[5], name_data[6], name_data[7], \\\n",
    "name_data[8], name_data[9], name_data[10], name_data[11], \\\n",
    "name_data[12], name_data[13], name_data[14], name_data[15], \\\n",
    "name_data[16], name_data[17], name_data[18], name_data[19], \\\n",
    "name_data[20], name_data[21], name_data[22], name_data[23]"
   ]
  },
  {
   "cell_type": "code",
   "execution_count": 3,
   "id": "b4ea8a18",
   "metadata": {},
   "outputs": [],
   "source": [
    "# load models\n",
    "\n",
    "dt = load(\"models_shuffled/decision_tree.joblib\")\n",
    "rf = load(\"models_shuffled/random_forest.joblib\")\n",
    "xgb = load(\"models_shuffled/xgboost.joblib\")"
   ]
  },
  {
   "cell_type": "markdown",
   "id": "c1cee29d",
   "metadata": {},
   "source": [
    "# EXPLANATIONS"
   ]
  },
  {
   "cell_type": "code",
   "execution_count": 4,
   "id": "77dc6f64",
   "metadata": {},
   "outputs": [
    {
     "name": "stdout",
     "output_type": "stream",
     "text": [
      "randomly generated indices [98, 107, 10, 66, 130, 124, 103, 77, 122, 91]\n",
      "original label [4, 9, 9, 9, 5, 9, 8, 9, 9, 3]\n",
      "prediction rf [2, 9, 9, 9, 7, 9, 7, 9, 9, 1]\n"
     ]
    },
    {
     "name": "stderr",
     "output_type": "stream",
     "text": [
      "np.matrix usage is deprecated in 1.0 and will raise a TypeError in 1.2. Please convert to a numpy array with np.asarray. For more information see: https://numpy.org/doc/stable/reference/generated/numpy.matrix.html\n",
      "np.matrix usage is deprecated in 1.0 and will raise a TypeError in 1.2. Please convert to a numpy array with np.asarray. For more information see: https://numpy.org/doc/stable/reference/generated/numpy.matrix.html\n",
      "np.matrix usage is deprecated in 1.0 and will raise a TypeError in 1.2. Please convert to a numpy array with np.asarray. For more information see: https://numpy.org/doc/stable/reference/generated/numpy.matrix.html\n",
      "np.matrix usage is deprecated in 1.0 and will raise a TypeError in 1.2. Please convert to a numpy array with np.asarray. For more information see: https://numpy.org/doc/stable/reference/generated/numpy.matrix.html\n",
      "np.matrix usage is deprecated in 1.0 and will raise a TypeError in 1.2. Please convert to a numpy array with np.asarray. For more information see: https://numpy.org/doc/stable/reference/generated/numpy.matrix.html\n",
      "np.matrix usage is deprecated in 1.0 and will raise a TypeError in 1.2. Please convert to a numpy array with np.asarray. For more information see: https://numpy.org/doc/stable/reference/generated/numpy.matrix.html\n",
      "np.matrix usage is deprecated in 1.0 and will raise a TypeError in 1.2. Please convert to a numpy array with np.asarray. For more information see: https://numpy.org/doc/stable/reference/generated/numpy.matrix.html\n",
      "np.matrix usage is deprecated in 1.0 and will raise a TypeError in 1.2. Please convert to a numpy array with np.asarray. For more information see: https://numpy.org/doc/stable/reference/generated/numpy.matrix.html\n",
      "np.matrix usage is deprecated in 1.0 and will raise a TypeError in 1.2. Please convert to a numpy array with np.asarray. For more information see: https://numpy.org/doc/stable/reference/generated/numpy.matrix.html\n",
      "np.matrix usage is deprecated in 1.0 and will raise a TypeError in 1.2. Please convert to a numpy array with np.asarray. For more information see: https://numpy.org/doc/stable/reference/generated/numpy.matrix.html\n"
     ]
    }
   ],
   "source": [
    "# local explanation parameters\n",
    "\n",
    "# N - number of instances to look at\n",
    "N = 10\n",
    "# indices\n",
    "random.seed(0)\n",
    "collect_i = random.sample(range(0, X_exp_test.shape[0]), N)\n",
    "\n",
    "orig_collect_p = []\n",
    "collect_p = []\n",
    "\n",
    "for c in range(N):\n",
    "    pred_i = rf.predict(np.asmatrix(X_exp_test[collect_i[c]]))[0]\n",
    "    collect_p.append(pred_i)\n",
    "    orig_collect_p.append(y_exp_test[collect_i[c]])\n",
    "\n",
    "print(\"randomly generated indices\", collect_i)\n",
    "print(\"original label\", orig_collect_p)\n",
    "print(\"prediction rf\", collect_p)"
   ]
  },
  {
   "cell_type": "code",
   "execution_count": 8,
   "id": "2eabb296",
   "metadata": {},
   "outputs": [
    {
     "name": "stdout",
     "output_type": "stream",
     "text": [
      "[9 1 7 5 2 2 0 9 3 9 9 9 9 6 6 1 1 9 2 1 2 9 6 6 6 1 5 1 9 0 1 0 1 1 2 1 9\n",
      " 9 9 9 7 8 9 5 1 8 9 1 1 3 8 0 1 9 2 1 9 7 9 7 8 1 1 9 8 7 9 8 6 5 5 9 2 0\n",
      " 9 9 1 9 8 9 9 2 9 0 0 0 6 9 0 1 2 1 7 2 1 9 1 5 2 1 8 9 9 7 0 1 3 9 1 7 0\n",
      " 0 9 8 0 9 9 9 1 0 1 9 9 8 9 9 0 3 9 6 7 3 9 8 9 7 1 9 6 0 4 9 9 8]\n",
      "6\n",
      "29\n",
      "31\n",
      "51\n",
      "73\n",
      "83\n",
      "84\n",
      "85\n",
      "88\n",
      "104\n",
      "110\n",
      "111\n",
      "114\n",
      "119\n",
      "126\n",
      "139\n"
     ]
    }
   ],
   "source": [
    "N_all = len(X_exp_test)\n",
    "prediction = rf.predict(X_exp_test)\n",
    "print(rf.predict(X_exp_test))\n",
    "\n",
    "N_all_urban = len(X_test_exp_urban)\n",
    "N_all_rural = len(X_test_exp_rural)\n",
    "\n",
    "prediction_urban = rf.predict(X_test_exp_urban)\n",
    "prediction_rural = rf.predict(X_test_exp_rural)\n",
    "\n",
    "#print(N_all, N_all_urban, N_all_rural)"
   ]
  },
  {
   "cell_type": "code",
   "execution_count": 9,
   "id": "5c1010ef",
   "metadata": {},
   "outputs": [
    {
     "name": "stdout",
     "output_type": "stream",
     "text": [
      "(144, 18)\n",
      "(333, 18)\n"
     ]
    }
   ],
   "source": [
    "print(np.shape(X_exp_test))\n",
    "print(np.shape(X_exp_train))\n",
    "\n",
    "columns = [\"te_cn\", \"out_cn\", \"in_cn\", \"dc_cn\", \"cc_cn\", \"out/in_cn\", \"te_cl\", \"out_cl\", \"in_cl\", \"dc_cl\", \"cc_cl\", \"out/in_cl\", \"te_sn\", \"out_sn\", \"in_sn\", \"dc_sn\", \"cc_sn\", \"out/in_sn\"]\n",
    "target = [\"0\", \"1\", \"2\", \"3\", \"4\", \"5\", \"6\", \"7\", \"8\", \"9\"]"
   ]
  },
  {
   "cell_type": "markdown",
   "id": "4c571e7c",
   "metadata": {},
   "source": [
    "# 1) LIME"
   ]
  },
  {
   "cell_type": "code",
   "execution_count": 10,
   "id": "ecdfa671",
   "metadata": {},
   "outputs": [],
   "source": [
    "# fitting lime on subsampled data set\n",
    "# on RF\n",
    "\n",
    "# training data set: full/urban/rural\n",
    "explainer = lime.lime_tabular.LimeTabularExplainer(X_exp_train_sub, feature_names=columns, class_names=target, discretize_continuous=True)"
   ]
  },
  {
   "cell_type": "code",
   "execution_count": null,
   "id": "4afd58c5",
   "metadata": {
    "scrolled": true
   },
   "outputs": [],
   "source": [
    "# testing lime on (not subsampled) test set\n",
    "# test set + predictions + N : full/urban/rural\n",
    "\n",
    "collect_e = []\n",
    "   \n",
    "for a in range(N_all_urban):    \n",
    "    exp_lime = explainer.explain_instance(X_test_exp_urban[a], rf.predict_proba, num_features=5, top_labels=1)\n",
    "    print(\"BB prediction\", prediction_urban[a])\n",
    "    # exp_lime.show_in_notebook(show_table=True, show_all=False)\n",
    "    # exp_i = exp_lime.as_list(prediction[a])\n",
    "    exp_i = exp_lime.local_exp\n",
    "    print(exp_i)\n",
    "    collect_e.append(exp_i)\n",
    "    #exp_lime.save_to_file(\"explanations_new_new/lime_\" + str(i) + \".html\")"
   ]
  },
  {
   "cell_type": "code",
   "execution_count": null,
   "id": "6b1a32d8",
   "metadata": {},
   "outputs": [],
   "source": [
    "# N : full/urban/rural\n",
    "\n",
    "print(list(collect_e[0].values())[0])\n",
    "\n",
    "values_ = np.zeros((10, 18, N_all_urban))\n",
    "\n",
    "for k in range(N_all_urban):\n",
    "    key_ = list(collect_e[k].keys())[0]\n",
    "    values_e = list(collect_e[k].values())[0]\n",
    "    for j in range(5):\n",
    "        values_[key_, values_e[j][0], k] = values_e[j][1]       "
   ]
  },
  {
   "cell_type": "code",
   "execution_count": null,
   "id": "c90fa249",
   "metadata": {},
   "outputs": [],
   "source": [
    "#np.save(\"lime_matrix_urban.npy\", values_)\n",
    "#values_ = np.load(\"explanations/lime_matrix_rural.npy\")"
   ]
  }
 ],
 "metadata": {
  "kernelspec": {
   "display_name": "late",
   "language": "python",
   "name": "late"
  },
  "language_info": {
   "codemirror_mode": {
    "name": "ipython",
    "version": 3
   },
   "file_extension": ".py",
   "mimetype": "text/x-python",
   "name": "python",
   "nbconvert_exporter": "python",
   "pygments_lexer": "ipython3",
   "version": "3.7.7"
  }
 },
 "nbformat": 4,
 "nbformat_minor": 5
}
